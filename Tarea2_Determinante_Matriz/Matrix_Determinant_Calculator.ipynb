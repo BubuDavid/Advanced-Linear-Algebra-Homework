{
 "cells": [
  {
   "cell_type": "markdown",
   "metadata": {},
   "source": [
    "# Determinante de una matriz\n",
    "## Instrucciones:\n",
    "- Escriba por favor, en un archivo llamado `Matrix.txt`, las matrices a tratar, pueden ser muchas, las que usted quiera, cada fila separada por un salto de línea y cada columna separada con espacios, además, cada matriz separada por dos saltos de línea, a continuación un ejemplo:\n",
    "\n",
    "```python\n",
    "1 2 3\n",
    "4 5 6\n",
    "7 8 9\n",
    "\n",
    "1 2\n",
    "5 6\n",
    "\n",
    "5 8 1 6 7 5\n",
    "4 3 5 7 3 1\n",
    "3 2 4 3 4 4\n",
    "5 0 2 0 3 9\n",
    "9 5 4 1 8 1\n",
    "2 6 4 4 1 1\n",
    "```\n",
    "- Corra por favor, todas las celdas, note que las celdas que dan la respuesta están justo debajo de los títulos _\"Calcular Determinante\"_.\n",
    "\n",
    "- Se creará un archivo llamado: `Determinants.txt` las determinantes de cada matrix dada, de igual forma las soluciones apareceran en el output de la celda o en la línea de comandos, depende de donde se ejecute el código.\n",
    "\n",
    "## Consideraciones:\n",
    "Solo funciona con Sistemas Lineales cuadrados, es decir, aquellos que tienen dimension $nxn$\n",
    "\n",
    "## Procedimiento\n",
    "El método para resolver este sistema es el siguiente:\n",
    "![Process](./Process.PNG)"
   ]
  },
  {
   "cell_type": "code",
   "execution_count": 168,
   "metadata": {},
   "outputs": [],
   "source": [
    "# I need a function (bubble sort) that gives me the correct sign\n",
    "def sign(p):\n",
    "    n = len(p)\n",
    "    aux = 1\n",
    "    p_copy = p.copy()\n",
    "    for i in range(n):\n",
    "        for j in range(i+1, n):\n",
    "            if p_copy[i] >= p_copy[j]:\n",
    "                p_copy[i], p_copy[j] = p_copy[j], p_copy[i]\n",
    "                aux += 1\n",
    "    if aux % 2:\n",
    "        return 1\n",
    "    return -1"
   ]
  },
  {
   "cell_type": "code",
   "execution_count": 169,
   "metadata": {},
   "outputs": [],
   "source": [
    "# This function calculate the permutations of p\n",
    "def permu(p, l, r, matrix):\n",
    "    global suma\n",
    "    if l == r:\n",
    "        term = det(p, matrix, r+1)\n",
    "        term *= sign(p)\n",
    "        suma += term\n",
    "        #print(p, term)\n",
    "    else:\n",
    "        for i in range(l,r+1): \n",
    "            p[l], p[i] = p[i], p[l] \n",
    "            permu(p, l+1, r, matrix = matrix)\n",
    "            p[l], p[i] = p[i], p[l] \n",
    "  "
   ]
  },
  {
   "cell_type": "code",
   "execution_count": 170,
   "metadata": {},
   "outputs": [],
   "source": [
    "# This function calculate the determinat of the matrix\n",
    "def det(p, matrix, n):\n",
    "    product = 1\n",
    "    for i in range(n):\n",
    "        product *= matrix[i][p[i]]\n",
    "        #print(matrix[i][p[i]])\n",
    "    return product"
   ]
  },
  {
   "cell_type": "code",
   "execution_count": 171,
   "metadata": {},
   "outputs": [],
   "source": [
    "def writeAns(matrix, out):\n",
    "    n = len(matrix)\n",
    "    out.write(\"La determinante de la matriz: \\n\")\n",
    "    for i in range(n):\n",
    "        for j in range(n):\n",
    "            print(matrix[i][j], end=\"  \")\n",
    "            out.write(f\"{matrix[i][j]}  \")\n",
    "        print()\n",
    "        out.write(\"\\n\")\n",
    "        \n",
    "    p = [i for i in range(n)]\n",
    "    permu(p, 0, n-1, matrix)\n",
    "    print(f\"Es {suma}\")\n",
    "    out.write(f\"Es: {suma}\\n\\n\")"
   ]
  },
  {
   "cell_type": "markdown",
   "metadata": {},
   "source": [
    "# Calcular determinante "
   ]
  },
  {
   "cell_type": "code",
   "execution_count": 173,
   "metadata": {},
   "outputs": [
    {
     "name": "stdout",
     "output_type": "stream",
     "text": [
      "La determinante de la matriz: \n",
      "1.0  2.0  3.0  \n",
      "4.0  5.0  6.0  \n",
      "7.0  8.0  9.0  \n",
      "Es 0.0\n",
      "\n",
      "La determinante de la matriz: \n",
      "1.0  2.0  \n",
      "5.0  6.0  \n",
      "Es -4.0\n",
      "\n",
      "La determinante de la matriz: \n",
      "5.0  8.0  1.0  6.0  7.0  5.0  \n",
      "4.0  3.0  5.0  7.0  3.0  1.0  \n",
      "3.0  2.0  4.0  3.0  4.0  4.0  \n",
      "5.0  0.0  2.0  0.0  3.0  9.0  \n",
      "9.0  5.0  4.0  1.0  8.0  1.0  \n",
      "2.0  6.0  4.0  4.0  1.0  1.0  \n",
      "Es -38543.0\n",
      "\n"
     ]
    }
   ],
   "source": [
    "# This code reads text files for simplicity.\n",
    "f = open(\"Matrix.txt\", \"r\")\n",
    "out = open(\"Determinants.txt\", \"w\")\n",
    "limit = len(open(\"Matrix.txt\", \"r\").readlines())\n",
    "# We can paste a lot of linear system separated by two endlines. \n",
    "# Create our list m\n",
    "matrix = []\n",
    "for cont, line in enumerate(f):\n",
    "    if line != \"\\n\" and cont < limit-1:\n",
    "        matrix.append(list(map(float, line.split(\" \"))))\n",
    "    else:\n",
    "        if cont == limit - 1:\n",
    "            matrix.append(list(map(float, line.split(\" \"))))\n",
    "        suma = 0\n",
    "        \n",
    "        # Print matrix just to be sure it works.\n",
    "        # We are assuming that matrix has nxn elements\n",
    "        print(\"La determinante de la matriz: \")\n",
    "        writeAns(matrix, out)\n",
    "        matrix = []\n",
    "        print()\n",
    "\n",
    "out.close()\n",
    "f.close()"
   ]
  }
 ],
 "metadata": {
  "kernelspec": {
   "display_name": "Python 3",
   "language": "python",
   "name": "python3"
  },
  "language_info": {
   "codemirror_mode": {
    "name": "ipython",
    "version": 3
   },
   "file_extension": ".py",
   "mimetype": "text/x-python",
   "name": "python",
   "nbconvert_exporter": "python",
   "pygments_lexer": "ipython3",
   "version": "3.7.4"
  }
 },
 "nbformat": 4,
 "nbformat_minor": 4
}
